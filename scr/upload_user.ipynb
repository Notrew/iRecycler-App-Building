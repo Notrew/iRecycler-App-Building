{
 "cells": [
  {
   "cell_type": "code",
   "execution_count": 1,
   "id": "1d878a95",
   "metadata": {},
   "outputs": [],
   "source": [
    "import pandas as pd\n",
    "import requests\n",
    "import json"
   ]
  },
  {
   "cell_type": "code",
   "execution_count": 30,
   "id": "1b8a76d7",
   "metadata": {
    "scrolled": false
   },
   "outputs": [
    {
     "data": {
      "text/html": [
       "<div>\n",
       "<style scoped>\n",
       "    .dataframe tbody tr th:only-of-type {\n",
       "        vertical-align: middle;\n",
       "    }\n",
       "\n",
       "    .dataframe tbody tr th {\n",
       "        vertical-align: top;\n",
       "    }\n",
       "\n",
       "    .dataframe thead th {\n",
       "        text-align: right;\n",
       "    }\n",
       "</style>\n",
       "<table border=\"1\" class=\"dataframe\">\n",
       "  <thead>\n",
       "    <tr style=\"text-align: right;\">\n",
       "      <th></th>\n",
       "      <th>gender</th>\n",
       "      <th>city</th>\n",
       "      <th>email</th>\n",
       "      <th>username</th>\n",
       "      <th>age</th>\n",
       "      <th>password</th>\n",
       "      <th>phone</th>\n",
       "      <th>zipcode</th>\n",
       "    </tr>\n",
       "  </thead>\n",
       "  <tbody>\n",
       "    <tr>\n",
       "      <th>0</th>\n",
       "      <td>female</td>\n",
       "      <td>New York</td>\n",
       "      <td>BettyDStpierre@rhyta.com</td>\n",
       "      <td>Beciond78</td>\n",
       "      <td>43</td>\n",
       "      <td>Chat5aiyahx</td>\n",
       "      <td>646-327-7402</td>\n",
       "      <td>10013</td>\n",
       "    </tr>\n",
       "    <tr>\n",
       "      <th>1</th>\n",
       "      <td>female</td>\n",
       "      <td>New York</td>\n",
       "      <td>KimberlyRStewart@einrot.com</td>\n",
       "      <td>Bacracks</td>\n",
       "      <td>43</td>\n",
       "      <td>fie5Sheex5k</td>\n",
       "      <td>917-885-8005</td>\n",
       "      <td>10013</td>\n",
       "    </tr>\n",
       "    <tr>\n",
       "      <th>2</th>\n",
       "      <td>female</td>\n",
       "      <td>New York</td>\n",
       "      <td>AliceJBaize@gustr.com</td>\n",
       "      <td>Willocip</td>\n",
       "      <td>49</td>\n",
       "      <td>Thua4Ophei</td>\n",
       "      <td>845-480-3782</td>\n",
       "      <td>10019</td>\n",
       "    </tr>\n",
       "    <tr>\n",
       "      <th>3</th>\n",
       "      <td>female</td>\n",
       "      <td>Long Island City</td>\n",
       "      <td>MargueriteRReeves@superrito.com</td>\n",
       "      <td>Nersese</td>\n",
       "      <td>62</td>\n",
       "      <td>OoNgie4chae</td>\n",
       "      <td>646-786-9004</td>\n",
       "      <td>11101</td>\n",
       "    </tr>\n",
       "    <tr>\n",
       "      <th>4</th>\n",
       "      <td>male</td>\n",
       "      <td>Lynbrook</td>\n",
       "      <td>ToddEHarrell@fleckens.hu</td>\n",
       "      <td>Balle1974</td>\n",
       "      <td>47</td>\n",
       "      <td>iinoox8ku8Oh</td>\n",
       "      <td>516-825-7417</td>\n",
       "      <td>11563</td>\n",
       "    </tr>\n",
       "    <tr>\n",
       "      <th>...</th>\n",
       "      <td>...</td>\n",
       "      <td>...</td>\n",
       "      <td>...</td>\n",
       "      <td>...</td>\n",
       "      <td>...</td>\n",
       "      <td>...</td>\n",
       "      <td>...</td>\n",
       "      <td>...</td>\n",
       "    </tr>\n",
       "    <tr>\n",
       "      <th>180</th>\n",
       "      <td>male</td>\n",
       "      <td>Portland</td>\n",
       "      <td>EdwardPLoewen@armyspy.com</td>\n",
       "      <td>Barthat</td>\n",
       "      <td>19</td>\n",
       "      <td>ua6Aquae</td>\n",
       "      <td>360-816-6028</td>\n",
       "      <td>97218</td>\n",
       "    </tr>\n",
       "    <tr>\n",
       "      <th>181</th>\n",
       "      <td>male</td>\n",
       "      <td>Eugene</td>\n",
       "      <td>ZaneSDavis@gustr.com</td>\n",
       "      <td>Andeverien37</td>\n",
       "      <td>84</td>\n",
       "      <td>huz3zaeTh2</td>\n",
       "      <td>541-520-1316</td>\n",
       "      <td>97402</td>\n",
       "    </tr>\n",
       "    <tr>\n",
       "      <th>182</th>\n",
       "      <td>female</td>\n",
       "      <td>Bothell</td>\n",
       "      <td>SaraKLegrand@cuvox.de</td>\n",
       "      <td>Appremuch</td>\n",
       "      <td>58</td>\n",
       "      <td>Ahkah1Eil3p</td>\n",
       "      <td>425-402-6266</td>\n",
       "      <td>98021</td>\n",
       "    </tr>\n",
       "    <tr>\n",
       "      <th>183</th>\n",
       "      <td>female</td>\n",
       "      <td>Tukwila</td>\n",
       "      <td>JamieRAlvarez@gustr.com</td>\n",
       "      <td>Tractinglery1988</td>\n",
       "      <td>33</td>\n",
       "      <td>cho3veiChai</td>\n",
       "      <td>253-345-5682</td>\n",
       "      <td>98168</td>\n",
       "    </tr>\n",
       "    <tr>\n",
       "      <th>184</th>\n",
       "      <td>male</td>\n",
       "      <td>Cashmere</td>\n",
       "      <td>StephenKKelleher@cuvox.de</td>\n",
       "      <td>Weravinut1948</td>\n",
       "      <td>73</td>\n",
       "      <td>Ebuoghar4se</td>\n",
       "      <td>509-782-5924</td>\n",
       "      <td>98815</td>\n",
       "    </tr>\n",
       "  </tbody>\n",
       "</table>\n",
       "<p>185 rows × 8 columns</p>\n",
       "</div>"
      ],
      "text/plain": [
       "     gender              city                            email  \\\n",
       "0    female          New York         BettyDStpierre@rhyta.com   \n",
       "1    female          New York      KimberlyRStewart@einrot.com   \n",
       "2    female          New York            AliceJBaize@gustr.com   \n",
       "3    female  Long Island City  MargueriteRReeves@superrito.com   \n",
       "4      male          Lynbrook         ToddEHarrell@fleckens.hu   \n",
       "..      ...               ...                              ...   \n",
       "180    male          Portland        EdwardPLoewen@armyspy.com   \n",
       "181    male            Eugene             ZaneSDavis@gustr.com   \n",
       "182  female           Bothell            SaraKLegrand@cuvox.de   \n",
       "183  female           Tukwila          JamieRAlvarez@gustr.com   \n",
       "184    male          Cashmere        StephenKKelleher@cuvox.de   \n",
       "\n",
       "             username  age      password         phone  zipcode  \n",
       "0           Beciond78   43   Chat5aiyahx  646-327-7402    10013  \n",
       "1            Bacracks   43   fie5Sheex5k  917-885-8005    10013  \n",
       "2            Willocip   49    Thua4Ophei  845-480-3782    10019  \n",
       "3             Nersese   62   OoNgie4chae  646-786-9004    11101  \n",
       "4           Balle1974   47  iinoox8ku8Oh  516-825-7417    11563  \n",
       "..                ...  ...           ...           ...      ...  \n",
       "180           Barthat   19      ua6Aquae  360-816-6028    97218  \n",
       "181      Andeverien37   84    huz3zaeTh2  541-520-1316    97402  \n",
       "182         Appremuch   58   Ahkah1Eil3p  425-402-6266    98021  \n",
       "183  Tractinglery1988   33   cho3veiChai  253-345-5682    98168  \n",
       "184     Weravinut1948   73   Ebuoghar4se  509-782-5924    98815  \n",
       "\n",
       "[185 rows x 8 columns]"
      ]
     },
     "execution_count": 30,
     "metadata": {},
     "output_type": "execute_result"
    }
   ],
   "source": [
    "#read csv file to python\n",
    "df=pd.read_csv('./user_info.csv')#index_col=\"Username\"\n",
    "#df.index.name=\"username\"\n",
    "df.columns=[\"gender\",\"city\",\"email\",\"username\",\"age\",\"password\",\"phone\",'zipcode']\n",
    "df"
   ]
  },
  {
   "cell_type": "code",
   "execution_count": 31,
   "id": "35228f85",
   "metadata": {
    "scrolled": false
   },
   "outputs": [
    {
     "name": "stderr",
     "output_type": "stream",
     "text": [
      "<ipython-input-31-2a97d5ef3254>:2: SettingWithCopyWarning: \n",
      "A value is trying to be set on a copy of a slice from a DataFrame\n",
      "\n",
      "See the caveats in the documentation: https://pandas.pydata.org/pandas-docs/stable/user_guide/indexing.html#returning-a-view-versus-a-copy\n",
      "  df[\"phone\"][i]=df[\"phone\"][i].replace(\"-\",\"\")\n"
     ]
    },
    {
     "data": {
      "text/plain": [
       "0      6463277402\n",
       "1      9178858005\n",
       "2      8454803782\n",
       "3      6467869004\n",
       "4      5168257417\n",
       "          ...    \n",
       "180    3608166028\n",
       "181    5415201316\n",
       "182    4254026266\n",
       "183    2533455682\n",
       "184    5097825924\n",
       "Name: phone, Length: 185, dtype: object"
      ]
     },
     "execution_count": 31,
     "metadata": {},
     "output_type": "execute_result"
    }
   ],
   "source": [
    "for i in range(len(df[\"phone\"])):\n",
    "    df[\"phone\"][i]=df[\"phone\"][i].replace(\"-\",\"\")\n",
    "    #print(df[\"phone\"][i]) \n",
    "df['phone']"
   ]
  },
  {
   "cell_type": "code",
   "execution_count": 63,
   "id": "e6176c71",
   "metadata": {},
   "outputs": [
    {
     "data": {
      "text/plain": [
       "'[{\"gender\":\"female\",\"city\":\"New York\",\"email\":\"BettyDStpierre@rhyta.com\",\"username\":\"Beciond78\",\"age\":43,\"password\":\"Chat5aiyahx\",\"phone\":\"6463277402\",\"zipcode\":10013},{\"gender\":\"female\",\"city\":\"New York\",\"email\":\"KimberlyRStewart@einrot.com\",\"username\":\"Bacracks\",\"age\":43,\"password\":\"fie5Sheex5k\",\"phone\":\"9178858005\",\"zipcode\":10013},{\"gender\":\"female\",\"city\":\"New York\",\"email\":\"AliceJBaize@gustr.com\",\"username\":\"Willocip\",\"age\":49,\"password\":\"Thua4Ophei\",\"phone\":\"8454803782\",\"zipcode\":10019},{\"gender\":\"female\",\"city\":\"Long Island City\",\"email\":\"MargueriteRReeves@superrito.com\",\"username\":\"Nersese\",\"age\":62,\"password\":\"OoNgie4chae\",\"phone\":\"6467869004\",\"zipcode\":11101},{\"gender\":\"male\",\"city\":\"Lynbrook\",\"email\":\"ToddEHarrell@fleckens.hu\",\"username\":\"Balle1974\",\"age\":47,\"password\":\"iinoox8ku8Oh\",\"phone\":\"5168257417\",\"zipcode\":11563},{\"gender\":\"male\",\"city\":\"Westbury\",\"email\":\"MarkKGolden@superrito.com\",\"username\":\"Emid1936\",\"age\":85,\"password\":\"eeD2Eishei\",\"phone\":\"9143961219\",\"zipcode\":11590},{\"gender\":\"female\",\"city\":\"Levittown\",\"email\":\"NancyRSmith@cuvox.de\",\"username\":\"Sulard\",\"age\":47,\"password\":\"iF4Yoo1ae\",\"phone\":\"6314414026\",\"zipcode\":11756},{\"gender\":\"female\",\"city\":\"Riverhead\",\"email\":\"GuillerminaSPomeroy@jourrapide.com\",\"username\":\"Prier1950\",\"age\":72,\"password\":\"queej3Ich\",\"phone\":\"6317225679\",\"zipcode\":11901},{\"gender\":\"female\",\"city\":\"Homer\",\"email\":\"WillieJPeeples@jourrapide.com\",\"username\":\"Dialin\",\"age\":79,\"password\":\"she0Wuuph\",\"phone\":\"6077492467\",\"zipcode\":13077},{\"gender\":\"male\",\"city\":\"Liverpool\",\"email\":\"GregNKea@cuvox.de\",\"username\":\"Oulds1994\",\"age\":27,\"password\":\"aiheeLee0t\",\"phone\":\"3152787003\",\"zipcode\":13088},{\"gender\":\"male\",\"city\":\"Utica\",\"email\":\"JamesBPierce@einrot.com\",\"username\":\"Tiquitim\",\"age\":62,\"password\":\"Shae6quai\",\"phone\":\"3158127383\",\"zipcode\":13502},{\"gender\":\"male\",\"city\":\"Buffalo\",\"email\":\"AndrewRReyes@cuvox.de\",\"username\":\"Mignamem\",\"age\":76,\"password\":\"OJie8eezil8\",\"phone\":\"7169529098\",\"zipcode\":14202},{\"gender\":\"male\",\"city\":\"Cheektowaga\",\"email\":\"JamesJPalacios@armyspy.com\",\"username\":\"Ligagmer\",\"age\":42,\"password\":\"emoR1ieHed8\",\"phone\":\"7169946254\",\"zipcode\":14227},{\"gender\":\"female\",\"city\":\"Fairport\",\"email\":\"MichelleIBartlett@rhyta.com\",\"username\":\"Propeas\",\"age\":50,\"password\":\"Yi1eghaiF\",\"phone\":\"5854255232\",\"zipcode\":14450},{\"gender\":\"female\",\"city\":\"Rochester\",\"email\":\"AmandaDHale@rhyta.com\",\"username\":\"Farinell\",\"age\":29,\"password\":\"Uxaeco3oopi\",\"phone\":\"5859667353\",\"zipcode\":14608},{\"gender\":\"female\",\"city\":\"Bensalem\",\"email\":\"SusieAKorman@teleworm.us\",\"username\":\"Fortand\",\"age\":41,\"password\":\"PeiChoo4ohH\",\"phone\":\"6103399199\",\"zipcode\":19020},{\"gender\":\"male\",\"city\":\"Philadelphia\",\"email\":\"SamuelGTurner@cuvox.de\",\"username\":\"Becouly\",\"age\":41,\"password\":\"chei4fueKae\",\"phone\":\"2158372323\",\"zipcode\":19104},{\"gender\":\"female\",\"city\":\"Eagleville\",\"email\":\"MarthaDVillanueva@einrot.com\",\"username\":\"Oney1977\",\"age\":45,\"password\":\"Sohrohsa7\",\"phone\":\"6108645439\",\"zipcode\":19403},{\"gender\":\"female\",\"city\":\"Phoenixville\",\"email\":\"PearlCPrice@gustr.com\",\"username\":\"Himagettery1971\",\"age\":50,\"password\":\"Eo6uqu2ail\",\"phone\":\"6109334007\",\"zipcode\":19460},{\"gender\":\"male\",\"city\":\"New Castle\",\"email\":\"EddieJSeger@fleckens.hu\",\"username\":\"Gribetwouter\",\"age\":33,\"password\":\"aemieY0Hoh\",\"phone\":\"4844592398\",\"zipcode\":19720},{\"gender\":\"male\",\"city\":\"Seaford\",\"email\":\"BrianDRobbins@einrot.com\",\"username\":\"Hieving\",\"age\":49,\"password\":\"ohBohhu9yei\",\"phone\":\"3026283997\",\"zipcode\":19973},{\"gender\":\"female\",\"city\":\"Washington\",\"email\":\"MariaMRollins@jourrapide.com\",\"username\":\"Beepon\",\"age\":45,\"password\":\"saWobah1hae\",\"phone\":\"2022529018\",\"zipcode\":20024},{\"gender\":\"female\",\"city\":\"Annapolis Junction\",\"email\":\"JessieEGean@jourrapide.com\",\"username\":\"Cattesidn\",\"age\":71,\"password\":\"Iefeef3oo\",\"phone\":\"7033002873\",\"zipcode\":20701},{\"gender\":\"male\",\"city\":\"Laurel\",\"email\":\"RussellCArroyo@superrito.com\",\"username\":\"Offervers97\",\"age\":24,\"password\":\"QuaiphooM3osh\",\"phone\":\"3019767384\",\"zipcode\":20707},{\"gender\":\"female\",\"city\":\"Laurel\",\"email\":\"NancyPStonge@einrot.com\",\"username\":\"Warot1950\",\"age\":71,\"password\":\"phae0Aejooch\",\"phone\":\"3017257101\",\"zipcode\":20707},{\"gender\":\"female\",\"city\":\"Hanover\",\"email\":\"EdnaEPellegrino@dayrep.com\",\"username\":\"Hiche1963\",\"age\":58,\"password\":\"yaish0Ou\",\"phone\":\"4439755731\",\"zipcode\":21076},{\"gender\":\"female\",\"city\":\"Baltimore\",\"email\":\"JenniferPCostantino@armyspy.com\",\"username\":\"Drigatured\",\"age\":37,\"password\":\"dij1cheiCh\",\"phone\":\"4432678958\",\"zipcode\":21201},{\"gender\":\"female\",\"city\":\"Elkridge\",\"email\":\"CeciliaPTorres@dayrep.com\",\"username\":\"Busequithe\",\"age\":58,\"password\":\"oowohLee5le\",\"phone\":\"4103798824\",\"zipcode\":21227},{\"gender\":\"female\",\"city\":\"Herndon\",\"email\":\"StacieHGranata@jourrapide.com\",\"username\":\"Theim1959\",\"age\":62,\"password\":\"tohz5zie1Eex\",\"phone\":\"2404505114\",\"zipcode\":22070},{\"gender\":\"male\",\"city\":\"Charlottesville\",\"email\":\"FernandoTGarrett@cuvox.de\",\"username\":\"Seepince\",\"age\":80,\"password\":\"Hah3paiNg\",\"phone\":\"4342050183\",\"zipcode\":22903},{\"gender\":\"female\",\"city\":\"Renan\",\"email\":\"HeatherWBoivin@cuvox.de\",\"username\":\"Hortudy\",\"age\":31,\"password\":\"aepi4ma6Eeng\",\"phone\":\"4343353536\",\"zipcode\":24557},{\"gender\":\"female\",\"city\":\"Greensboro\",\"email\":\"TameikaRKendall@einrot.com\",\"username\":\"Mact2003\",\"age\":19,\"password\":\"xe4Chovee\",\"phone\":\"3365613340\",\"zipcode\":27406},{\"gender\":\"male\",\"city\":\"Raleigh\",\"email\":\"DerekLSmith@gustr.com\",\"username\":\"Gothys\",\"age\":75,\"password\":\"zi9Chaev3u\",\"phone\":\"9196492960\",\"zipcode\":27609},{\"gender\":\"female\",\"city\":\"Halifax\",\"email\":\"MabelAHanley@superrito.com\",\"username\":\"Spoed1983\",\"age\":38,\"password\":\"air5Iar1um\",\"phone\":\"2525838775\",\"zipcode\":27839},{\"gender\":\"male\",\"city\":\"China Grove\",\"email\":\"RobertHAustin@dayrep.com\",\"username\":\"Freples55\",\"age\":66,\"password\":\"mao7Eiy5Gei\",\"phone\":\"7048566583\",\"zipcode\":28023},{\"gender\":\"male\",\"city\":\"Charlotte\",\"email\":\"JohnnyGGoldman@fleckens.hu\",\"username\":\"Foelonemse69\",\"age\":52,\"password\":\"AhGohh6Phoh\",\"phone\":\"7049971344\",\"zipcode\":28202},{\"gender\":\"female\",\"city\":\"Fayetteville\",\"email\":\"HollyBBigler@armyspy.com\",\"username\":\"Deping\",\"age\":72,\"password\":\"EiWo9Uew\",\"phone\":\"9104887748\",\"zipcode\":28301},{\"gender\":\"female\",\"city\":\"Asheville\",\"email\":\"BettyAHoagland@rhyta.com\",\"username\":\"Coond1966\",\"age\":55,\"password\":\"Shei8ohm5iey\",\"phone\":\"8287345043\",\"zipcode\":28801},{\"gender\":\"female\",\"city\":\"Columbia\",\"email\":\"MariaJCarter@armyspy.com\",\"username\":\"Fambeephyal\",\"age\":47,\"password\":\"toow2ooNgah\",\"phone\":\"8037438075\",\"zipcode\":29206},{\"gender\":\"male\",\"city\":\"Greenville\",\"email\":\"ClementeDGutierrez@cuvox.de\",\"username\":\"Odevidis\",\"age\":34,\"password\":\"Shie1Ieg\",\"phone\":\"8643550035\",\"zipcode\":29601},{\"gender\":\"male\",\"city\":\"Piedmont\",\"email\":\"WaldoPMellen@dayrep.com\",\"username\":\"Bargeres\",\"age\":28,\"password\":\"Tei5Jaek\",\"phone\":\"8646088920\",\"zipcode\":29673},{\"gender\":\"female\",\"city\":\"North Augusta\",\"email\":\"KimberlyHPacker@dayrep.com\",\"username\":\"Afts1945\",\"age\":76,\"password\":\"iacaeB1Wae\",\"phone\":\"8039521901\",\"zipcode\":29841},{\"gender\":\"female\",\"city\":\"Marietta\",\"email\":\"JeniferDSoria@rhyta.com\",\"username\":\"Linseece\",\"age\":45,\"password\":\"de0Pah5Ch\",\"phone\":\"7702725174\",\"zipcode\":30067},{\"gender\":\"male\",\"city\":\"Duluth\",\"email\":\"SeanOHildebrandt@rhyta.com\",\"username\":\"Meren1977\",\"age\":44,\"password\":\"eig4Teolot\",\"phone\":\"7704970033\",\"zipcode\":30136},{\"gender\":\"male\",\"city\":\"Atlanta\",\"email\":\"ForrestWGreen@gustr.com\",\"username\":\"Drinnera1977\",\"age\":44,\"password\":\"eJepai8th\",\"phone\":\"4047045382\",\"zipcode\":30303},{\"gender\":\"male\",\"city\":\"Atlanta\",\"email\":\"BillLGendreau@gustr.com\",\"username\":\"Mitallock\",\"age\":53,\"password\":\"eeNoe9ifoW3\",\"phone\":\"6787495588\",\"zipcode\":30303},{\"gender\":\"male\",\"city\":\"Atlanta\",\"email\":\"StantonADotson@einrot.com\",\"username\":\"Opurnerly\",\"age\":22,\"password\":\"zei8Wesh\",\"phone\":\"4046491511\",\"zipcode\":30305},{\"gender\":\"male\",\"city\":\"Savannah\",\"email\":\"EliECohen@armyspy.com\",\"username\":\"Replignigh1967\",\"age\":54,\"password\":\"ooViena3aph\",\"phone\":\"9126752262\",\"zipcode\":31405},{\"gender\":\"female\",\"city\":\"Lake Mary\",\"email\":\"MaryAShake@teleworm.us\",\"username\":\"Sincen\",\"age\":48,\"password\":\"teeXe3ooch3\",\"phone\":\"3216525673\",\"zipcode\":32746},{\"gender\":\"male\",\"city\":\"Boca Raton\",\"email\":\"RolandoSRodriguez@dayrep.com\",\"username\":\"Therseld\",\"age\":78,\"password\":\"Eik3aiFeeph\",\"phone\":\"5618628257\",\"zipcode\":33487},{\"gender\":\"male\",\"city\":\"Tampa\",\"email\":\"EdgarCParker@jourrapide.com\",\"username\":\"Hunitesige\",\"age\":30,\"password\":\"Ooc8daiG\",\"phone\":\"8635356536\",\"zipcode\":33602},{\"gender\":\"female\",\"city\":\"Winter Haven\",\"email\":\"AliceRKim@superrito.com\",\"username\":\"Thatereping\",\"age\":30,\"password\":\"Hei5OuB6xee\",\"phone\":\"8638604033\",\"zipcode\":33830},{\"gender\":\"male\",\"city\":\"Polk City\",\"email\":\"JeffreyBMartinez@armyspy.com\",\"username\":\"Sandemnotim\",\"age\":28,\"password\":\"na7ohb7De\",\"phone\":\"8635129427\",\"zipcode\":33868},{\"gender\":\"male\",\"city\":\"Fort Myers\",\"email\":\"HowardVStern@teleworm.us\",\"username\":\"Pernedge71\",\"age\":50,\"password\":\"ti3Jahvei\",\"phone\":\"2397387183\",\"zipcode\":33901},{\"gender\":\"female\",\"city\":\"Huntsville\",\"email\":\"AmandaEShepard@jourrapide.com\",\"username\":\"Frittlefore\",\"age\":58,\"password\":\"nea2Quae3a\",\"phone\":\"2565367053\",\"zipcode\":35801},{\"gender\":\"female\",\"city\":\"Spanish Fort\",\"email\":\"KalaPPirkle@teleworm.us\",\"username\":\"Sant1951\",\"age\":71,\"password\":\"jie6ohH7Aer\",\"phone\":\"2514473109\",\"zipcode\":36527},{\"gender\":\"male\",\"city\":\"Mount Juliet\",\"email\":\"WalterMAtkins@jourrapide.com\",\"username\":\"Beirinked\",\"age\":49,\"password\":\"ow6eLili9boo\",\"phone\":\"6157584747\",\"zipcode\":37122},{\"gender\":\"male\",\"city\":\"Nashville\",\"email\":\"JamesMTilley@teleworm.us\",\"username\":\"Posinever\",\"age\":45,\"password\":\"etaoChahv1ch\",\"phone\":\"6159928881\",\"zipcode\":37203},{\"gender\":\"female\",\"city\":\"Chattanooga\",\"email\":\"TracyTDonis@einrot.com\",\"username\":\"Courpastruce\",\"age\":24,\"password\":\"uag7du9Een\",\"phone\":\"4234549870\",\"zipcode\":37403},{\"gender\":\"male\",\"city\":\"Knoxville\",\"email\":\"WilliamKDickerson@fleckens.hu\",\"username\":\"Formoush1999\",\"age\":22,\"password\":\"ohYoomi5\",\"phone\":\"4232006811\",\"zipcode\":37917},{\"gender\":\"female\",\"city\":\"Knoxville\",\"email\":\"TrishaELamm@superrito.com\",\"username\":\"Oushiney\",\"age\":53,\"password\":\"roo9Hiew6ae\",\"phone\":\"4233813203\",\"zipcode\":37921},{\"gender\":\"female\",\"city\":\"Memphis\",\"email\":\"SharonMBerthiaume@fleckens.hu\",\"username\":\"Aboomed\",\"age\":53,\"password\":\"aiD8touk\",\"phone\":\"9017972842\",\"zipcode\":38118},{\"gender\":\"male\",\"city\":\"Parsons\",\"email\":\"BrandonCSmith@cuvox.de\",\"username\":\"Pursho2003\",\"age\":19,\"password\":\"taZ4xu9ae\",\"phone\":\"7318474613\",\"zipcode\":38363},{\"gender\":\"male\",\"city\":\"Jackson\",\"email\":\"KennethMPedro@superrito.com\",\"username\":\"Arse1939\",\"age\":82,\"password\":\"eethie5Ur\",\"phone\":\"6014157065\",\"zipcode\":39201},{\"gender\":\"male\",\"city\":\"Gulfport\",\"email\":\"JamesCYoung@superrito.com\",\"username\":\"Scon1995\",\"age\":27,\"password\":\"cheka9Jai\",\"phone\":\"2283443878\",\"zipcode\":39501},{\"gender\":\"female\",\"city\":\"Louisville\",\"email\":\"PriscillaLOverbey@teleworm.us\",\"username\":\"Acrew1998\",\"age\":23,\"password\":\"iegeaPay6ai\",\"phone\":\"5024541704\",\"zipcode\":40205},{\"gender\":\"male\",\"city\":\"Winchester\",\"email\":\"RobertTBesser@jourrapide.com\",\"username\":\"Abightly\",\"age\":51,\"password\":\"Thei2cha\",\"phone\":\"6066043902\",\"zipcode\":40391},{\"gender\":\"female\",\"city\":\"Livingston\",\"email\":\"MarjoriePPelletier@jourrapide.com\",\"username\":\"Efolotervis58\",\"age\":63,\"password\":\"Aemukecha7v\",\"phone\":\"6064533079\",\"zipcode\":40445},{\"gender\":\"female\",\"city\":\"Paducah\",\"email\":\"NellieAKearney@armyspy.com\",\"username\":\"Upostionots\",\"age\":30,\"password\":\"af9iepeihuH\",\"phone\":\"2708925019\",\"zipcode\":42001},{\"gender\":\"male\",\"city\":\"Livermore\",\"email\":\"SammyHLepage@cuvox.de\",\"username\":\"Yound1999\",\"age\":22,\"password\":\"ool4Ash6c\",\"phone\":\"2702787377\",\"zipcode\":42352},{\"gender\":\"male\",\"city\":\"Columbus\",\"email\":\"GradyDBrunner@superrito.com\",\"username\":\"Twold1962\",\"age\":59,\"password\":\"fieNai5m\",\"phone\":\"6144159835\",\"zipcode\":43219},{\"gender\":\"male\",\"city\":\"Toledo\",\"email\":\"FernandoKRinehart@rhyta.com\",\"username\":\"Ineaskuld83\",\"age\":38,\"password\":\"iB8xie9thee\",\"phone\":\"4193088250\",\"zipcode\":43602},{\"gender\":\"male\",\"city\":\"Akron\",\"email\":\"RobertHZiolkowski@jourrapide.com\",\"username\":\"Movenciought\",\"age\":55,\"password\":\"teidee0Kae\",\"phone\":\"3305155217\",\"zipcode\":44308},{\"gender\":\"male\",\"city\":\"Akron\",\"email\":\"CurtisKKelly@cuvox.de\",\"username\":\"Notints\",\"age\":29,\"password\":\"aifie4bieX\",\"phone\":\"3305938725\",\"zipcode\":44311},{\"gender\":\"male\",\"city\":\"Sharonville\",\"email\":\"DavidMWalker@superrito.com\",\"username\":\"Facoure99\",\"age\":23,\"password\":\"nae8Oaket7\",\"phone\":\"5132896038\",\"zipcode\":45241},{\"gender\":\"male\",\"city\":\"Pendleton\",\"email\":\"ToddRBrennan@gustr.com\",\"username\":\"Sormthe\",\"age\":62,\"password\":\"we3rubeiKoo\",\"phone\":\"7652211214\",\"zipcode\":46064},{\"gender\":\"male\",\"city\":\"Indianapolis\",\"email\":\"TonyXHobby@cuvox.de\",\"username\":\"Twitanigived\",\"age\":27,\"password\":\"boceis1oHae\",\"phone\":\"3174849229\",\"zipcode\":46241},{\"gender\":\"female\",\"city\":\"Gary\",\"email\":\"DianeCHughes@jourrapide.com\",\"username\":\"Tinur1939\",\"age\":82,\"password\":\"koh7ee3ahR\",\"phone\":\"2194408907\",\"zipcode\":46402},{\"gender\":\"female\",\"city\":\"Elkhart\",\"email\":\"AliciaDPowell@teleworm.us\",\"username\":\"Boyeakes57\",\"age\":64,\"password\":\"akiF5chah5Ee\",\"phone\":\"5748212932\",\"zipcode\":46516},{\"gender\":\"female\",\"city\":\"Mishawaka\",\"email\":\"JennaJCates@einrot.com\",\"username\":\"Twongive\",\"age\":33,\"password\":\"OoT9quuu6B\",\"phone\":\"5742580271\",\"zipcode\":46544},{\"gender\":\"female\",\"city\":\"Liberty Center\",\"email\":\"VestaGSalisbury@rhyta.com\",\"username\":\"Sers1952\",\"age\":69,\"password\":\"iBiopiy7o\",\"phone\":\"2606949798\",\"zipcode\":46766},{\"gender\":\"male\",\"city\":\"Fort Wayne\",\"email\":\"RonLJohnson@gustr.com\",\"username\":\"Groply\",\"age\":52,\"password\":\"aitahMae0D\",\"phone\":\"2605022227\",\"zipcode\":46804},{\"gender\":\"male\",\"city\":\"Richmond\",\"email\":\"RonnieYHumphries@jourrapide.com\",\"username\":\"Sply1937\",\"age\":84,\"password\":\"ongei2Ao\",\"phone\":\"7659620270\",\"zipcode\":47374},{\"gender\":\"male\",\"city\":\"Richmond\",\"email\":\"GeraldARude@cuvox.de\",\"username\":\"Waystand\",\"age\":41,\"password\":\"hoh3oSoosho\",\"phone\":\"7653891355\",\"zipcode\":47374},{\"gender\":\"female\",\"city\":\"Evansville\",\"email\":\"FlorenceTRupp@armyspy.com\",\"username\":\"Qualis\",\"age\":62,\"password\":\"Mooz1foh\",\"phone\":\"8124224274\",\"zipcode\":47708},{\"gender\":\"male\",\"city\":\"Rockville\",\"email\":\"DonaldBReddy@superrito.com\",\"username\":\"Sans1982\",\"age\":40,\"password\":\"viPhee8sh\",\"phone\":\"7655695012\",\"zipcode\":47872},{\"gender\":\"female\",\"city\":\"Detroit\",\"email\":\"JulieLWortham@gustr.com\",\"username\":\"Hisaid1977\",\"age\":44,\"password\":\"Eileicaif3O\",\"phone\":\"7346359599\",\"zipcode\":48219},{\"gender\":\"male\",\"city\":\"Detroit\",\"email\":\"CoryLPecoraro@fleckens.hu\",\"username\":\"Heve1960\",\"age\":62,\"password\":\"Goo0dahng\",\"phone\":\"3139764141\",\"zipcode\":48226},{\"gender\":\"male\",\"city\":\"Saginaw\",\"email\":\"FranklinJFinch@jourrapide.com\",\"username\":\"Whisconce\",\"age\":27,\"password\":\"eGheen0oax\",\"phone\":\"9892937330\",\"zipcode\":48607},{\"gender\":\"female\",\"city\":\"Saginaw\",\"email\":\"BrendaCFrye@jourrapide.com\",\"username\":\"Sherp1995\",\"age\":27,\"password\":\"sheePh1Yeep\",\"phone\":\"9892102391\",\"zipcode\":48607},{\"gender\":\"male\",\"city\":\"White Pigeon\",\"email\":\"FrankSLambert@gustr.com\",\"username\":\"Arelithrous\",\"age\":72,\"password\":\"iuVieyo7i\",\"phone\":\"2694835768\",\"zipcode\":49099},{\"gender\":\"female\",\"city\":\"Urbandale\",\"email\":\"LatoyaCLefever@gustr.com\",\"username\":\"Vaterid77\",\"age\":45,\"password\":\"aikoR8iefei\",\"phone\":\"5153345318\",\"zipcode\":50322},{\"gender\":\"male\",\"city\":\"Urbandale\",\"email\":\"MelvinAOrnelas@einrot.com\",\"username\":\"Garlercurch\",\"age\":43,\"password\":\"iexahzane3Ae\",\"phone\":\"6415697262\",\"zipcode\":50322},{\"gender\":\"male\",\"city\":\"Fort Dodge\",\"email\":\"ThomasJCottrell@teleworm.us\",\"username\":\"Wintelpom45\",\"age\":77,\"password\":\"Oof4caijaiTh\",\"phone\":\"5154081958\",\"zipcode\":50501},{\"gender\":\"female\",\"city\":\"Storm Lake\",\"email\":\"JamieRLove@einrot.com\",\"username\":\"Notilen\",\"age\":71,\"password\":\"iech4Shoolee\",\"phone\":\"6057804314\",\"zipcode\":50588},{\"gender\":\"male\",\"city\":\"West Union\",\"email\":\"AnthonyAPhipps@rhyta.com\",\"username\":\"Ensiony\",\"age\":70,\"password\":\"OHish9Mei9d\",\"phone\":\"5634229350\",\"zipcode\":52175},{\"gender\":\"female\",\"city\":\"Davenport\",\"email\":\"ChristinaRBrown@fleckens.hu\",\"username\":\"Exual1964\",\"age\":57,\"password\":\"Reghee2lei\",\"phone\":\"5636638101\",\"zipcode\":52801},{\"gender\":\"male\",\"city\":\"Davenport\",\"email\":\"KentonMAguirre@superrito.com\",\"username\":\"Hics1952\",\"age\":70,\"password\":\"yeiP4aeLa0ai\",\"phone\":\"3097072734\",\"zipcode\":52803},{\"gender\":\"female\",\"city\":\"Milwaukee\",\"email\":\"GlendaLMcCall@teleworm.us\",\"username\":\"Oron1999\",\"age\":22,\"password\":\"ieng8ooGh\",\"phone\":\"4142363816\",\"zipcode\":53202},{\"gender\":\"female\",\"city\":\"Milwaukee\",\"email\":\"DorothyCThompson@cuvox.de\",\"username\":\"Exhaf1979\",\"age\":43,\"password\":\"Oox3eel9ooD\",\"phone\":\"4144653665\",\"zipcode\":53218},{\"gender\":\"female\",\"city\":\"Golden Valley\",\"email\":\"MarthaAWilson@armyspy.com\",\"username\":\"Alinst71\",\"age\":50,\"password\":\"NeTee9Quoo\",\"phone\":\"6512013550\",\"zipcode\":55427},{\"gender\":\"female\",\"city\":\"Harvey\",\"email\":\"MaryLHardy@dayrep.com\",\"username\":\"Gloseloth\",\"age\":59,\"password\":\"ohs4ohziNoo\",\"phone\":\"7013244980\",\"zipcode\":58341},{\"gender\":\"male\",\"city\":\"Morton Grove\",\"email\":\"DavidKSkidmore@rhyta.com\",\"username\":\"Vorcy1995\",\"age\":26,\"password\":\"aQuee0noh\",\"phone\":\"8479656137\",\"zipcode\":60053},{\"gender\":\"male\",\"city\":\"Lombard\",\"email\":\"GregABurr@fleckens.hu\",\"username\":\"Infle1979\",\"age\":43,\"password\":\"ooH2aek3\",\"phone\":\"2246365259\",\"zipcode\":60148},{\"gender\":\"female\",\"city\":\"Roselle\",\"email\":\"IsabelJEmmett@dayrep.com\",\"username\":\"Cattell\",\"age\":38,\"password\":\"OoTh7tohlea\",\"phone\":\"6309242283\",\"zipcode\":60172},{\"gender\":\"female\",\"city\":\"Evanston\",\"email\":\"JanetCQuan@einrot.com\",\"username\":\"Whichisatur\",\"age\":50,\"password\":\"yainaiB9zai\",\"phone\":\"8475700951\",\"zipcode\":60219},{\"gender\":\"female\",\"city\":\"Oak Brook\",\"email\":\"HeatherWSchultz@teleworm.us\",\"username\":\"Herch1936\",\"age\":85,\"password\":\"shoXohyoow6\",\"phone\":\"6303680675\",\"zipcode\":60523},{\"gender\":\"female\",\"city\":\"Naperville\",\"email\":\"CathyRWhite@jourrapide.com\",\"username\":\"Baccerst1960\",\"age\":62,\"password\":\"ahBu6eisea6\",\"phone\":\"6308488567\",\"zipcode\":60540},{\"gender\":\"male\",\"city\":\"Chicago\",\"email\":\"GaryMPearson@fleckens.hu\",\"username\":\"Preacces\",\"age\":47,\"password\":\"aili8eiPhae\",\"phone\":\"7735960853\",\"zipcode\":60605},{\"gender\":\"male\",\"city\":\"Chicago\",\"email\":\"RobertHBeck@superrito.com\",\"username\":\"Nescrall\",\"age\":39,\"password\":\"jaena7uNib\",\"phone\":\"7736485876\",\"zipcode\":60605},{\"gender\":\"female\",\"city\":\"Chicago\",\"email\":\"JulianaGRudolph@teleworm.us\",\"username\":\"Maged1999\",\"age\":22,\"password\":\"quai6Oongu\",\"phone\":\"7737346004\",\"zipcode\":60617},{\"gender\":\"female\",\"city\":\"Chicago\",\"email\":\"PaulineJMurff@cuvox.de\",\"username\":\"Poned1946\",\"age\":75,\"password\":\"Fee6jee4voh\",\"phone\":\"2246164301\",\"zipcode\":60631},{\"gender\":\"male\",\"city\":\"Chicago\",\"email\":\"ScottENilsson@dayrep.com\",\"username\":\"Toply1953\",\"age\":68,\"password\":\"aequei1Toho\",\"phone\":\"8474146815\",\"zipcode\":60631},{\"gender\":\"female\",\"city\":\"Bloomington\",\"email\":\"EdnaLBryant@fleckens.hu\",\"username\":\"Opinsly\",\"age\":44,\"password\":\"IPhah6koong\",\"phone\":\"3098311646\",\"zipcode\":61701},{\"gender\":\"female\",\"city\":\"Manchester\",\"email\":\"DariaGPride@superrito.com\",\"username\":\"Indich\",\"age\":39,\"password\":\"Ay2Vo3xie\",\"phone\":\"5735782640\",\"zipcode\":63011},{\"gender\":\"female\",\"city\":\"Hazelwood\",\"email\":\"MarthaRBerlin@einrot.com\",\"username\":\"Whypeor37\",\"age\":84,\"password\":\"tae9ooquaeX\",\"phone\":\"3144092404\",\"zipcode\":63042},{\"gender\":\"female\",\"city\":\"Stlouis\",\"email\":\"KathleenALeon@gustr.com\",\"username\":\"Witionothe\",\"age\":69,\"password\":\"theexoh3eeR\",\"phone\":\"6186044975\",\"zipcode\":63101},{\"gender\":\"male\",\"city\":\"Saint Louis\",\"email\":\"JasonEJohnson@armyspy.com\",\"username\":\"Whiseas\",\"age\":38,\"password\":\"RaeMahqu6dooGh\",\"phone\":\"6368416519\",\"zipcode\":63146},{\"gender\":\"male\",\"city\":\"Excelsior Springs\",\"email\":\"AnthonyBVilla@cuvox.de\",\"username\":\"Wely2003\",\"age\":19,\"password\":\"ooyie5Mee\",\"phone\":\"8166374735\",\"zipcode\":64024},{\"gender\":\"female\",\"city\":\"Collins\",\"email\":\"NataliaFJackson@superrito.com\",\"username\":\"Upossuck\",\"age\":61,\"password\":\"uCh7xushah\",\"phone\":\"4172753842\",\"zipcode\":64738},{\"gender\":\"male\",\"city\":\"Linwood\",\"email\":\"NicholasEYoder@cuvox.de\",\"username\":\"Sainigh\",\"age\":27,\"password\":\"vo6Eo4cu9\",\"phone\":\"9137232716\",\"zipcode\":66052},{\"gender\":\"male\",\"city\":\"Arma\",\"email\":\"KevinJBenton@superrito.com\",\"username\":\"Herseept\",\"age\":33,\"password\":\"ohraiZ4Oo\",\"phone\":\"4176398320\",\"zipcode\":66712},{\"gender\":\"male\",\"city\":\"Wichita\",\"email\":\"PaulJCowley@armyspy.com\",\"username\":\"Begazy\",\"age\":24,\"password\":\"cho6uCh6ch\",\"phone\":\"6206521889\",\"zipcode\":67202},{\"gender\":\"female\",\"city\":\"Wichita\",\"email\":\"AugustinaCRego@gustr.com\",\"username\":\"Acen1949\",\"age\":72,\"password\":\"pheeh2eLooz\",\"phone\":\"3169733485\",\"zipcode\":67202},{\"gender\":\"male\",\"city\":\"Liberty\",\"email\":\"BrandonEHo@gustr.com\",\"username\":\"Milhe1957\",\"age\":65,\"password\":\"ohH9caothee\",\"phone\":\"4026963797\",\"zipcode\":68381},{\"gender\":\"male\",\"city\":\"Axtell\",\"email\":\"RaymondAJoseph@jourrapide.com\",\"username\":\"Turzartur45\",\"age\":76,\"password\":\"Xex5Cah9h\",\"phone\":\"3087432673\",\"zipcode\":68924},{\"gender\":\"male\",\"city\":\"Lewellen\",\"email\":\"StephenSLove@cuvox.de\",\"username\":\"Patents\",\"age\":78,\"password\":\"eiyoov4Thoh\",\"phone\":\"3087785467\",\"zipcode\":69147},{\"gender\":\"female\",\"city\":\"Monroe\",\"email\":\"AngiePGraham@gustr.com\",\"username\":\"Olesest\",\"age\":62,\"password\":\"Io7Goongega\",\"phone\":\"3188074169\",\"zipcode\":71201},{\"gender\":\"female\",\"city\":\"Fayetteville\",\"email\":\"MelodyDWebb@cuvox.de\",\"username\":\"Malloffe51\",\"age\":70,\"password\":\"Iesiweepooj1\",\"phone\":\"4797157445\",\"zipcode\":72701},{\"gender\":\"male\",\"city\":\"Gateway\",\"email\":\"JohnTGiambrone@armyspy.com\",\"username\":\"Hicall\",\"age\":71,\"password\":\"va8Aen6thei\",\"phone\":\"4796560466\",\"zipcode\":72733},{\"gender\":\"female\",\"city\":\"Oklahoma City\",\"email\":\"MinnieCTrader@teleworm.us\",\"username\":\"Diguest\",\"age\":69,\"password\":\"quaiL4leiSh\",\"phone\":\"5807412136\",\"zipcode\":73109},{\"gender\":\"male\",\"city\":\"Oklahoma City\",\"email\":\"MelvinKHolmes@superrito.com\",\"username\":\"Thatiand\",\"age\":77,\"password\":\"airei0Xa3no\",\"phone\":\"4053613152\",\"zipcode\":73128},{\"gender\":\"male\",\"city\":\"Thomas\",\"email\":\"GeneKWade@superrito.com\",\"username\":\"Froma1961\",\"age\":60,\"password\":\"IBeeNg5xah\",\"phone\":\"5806612137\",\"zipcode\":73669},{\"gender\":\"male\",\"city\":\"Tulsa\",\"email\":\"LeonTMarceau@superrito.com\",\"username\":\"Ourty1956\",\"age\":66,\"password\":\"sheL5ahheo8r\",\"phone\":\"9189081877\",\"zipcode\":74120},{\"gender\":\"male\",\"city\":\"Prague\",\"email\":\"EricSKrehbiel@cuvox.de\",\"username\":\"Banstal\",\"age\":85,\"password\":\"xun8hahJom\",\"phone\":\"4055672671\",\"zipcode\":74864},{\"gender\":\"female\",\"city\":\"Grand Prairie\",\"email\":\"ImogeneAMeyers@jourrapide.com\",\"username\":\"Quisging\",\"age\":30,\"password\":\"Eej5muZae\",\"phone\":\"9725044936\",\"zipcode\":75050},{\"gender\":\"female\",\"city\":\"Dallas\",\"email\":\"RuthJRider@rhyta.com\",\"username\":\"Therect\",\"age\":63,\"password\":\"SaiG0eeng\",\"phone\":\"2146402042\",\"zipcode\":75247},{\"gender\":\"male\",\"city\":\"Cedar Hill\",\"email\":\"RaymondBRoman@dayrep.com\",\"username\":\"Prattaking\",\"age\":65,\"password\":\"woh0eeDie5\",\"phone\":\"4692724191\",\"zipcode\":75253},{\"gender\":\"female\",\"city\":\"Alto\",\"email\":\"MichelleMWilson@cuvox.de\",\"username\":\"Turydestand\",\"age\":55,\"password\":\"Ou9Eewei9oo\",\"phone\":\"9368581377\",\"zipcode\":75925},{\"gender\":\"female\",\"city\":\"Fort Worth\",\"email\":\"BeatriceJPerson@teleworm.us\",\"username\":\"Hatmarat\",\"age\":51,\"password\":\"eipe9Cheiz\",\"phone\":\"8176866463\",\"zipcode\":76102},{\"gender\":\"male\",\"city\":\"Wichita Falls\",\"email\":\"ScottKHamby@einrot.com\",\"username\":\"Oved1952\",\"age\":70,\"password\":\"gu5aegie6Ph\",\"phone\":\"9402352636\",\"zipcode\":76301},{\"gender\":\"male\",\"city\":\"Houston\",\"email\":\"CalebMRodriguez@superrito.com\",\"username\":\"Boble1938\",\"age\":83,\"password\":\"Ied8eyai\",\"phone\":\"8329787843\",\"zipcode\":77032},{\"gender\":\"male\",\"city\":\"Beaumont\",\"email\":\"StephenAGreen@rhyta.com\",\"username\":\"Threar\",\"age\":37,\"password\":\"uc0ohx7Die\",\"phone\":\"4092273110\",\"zipcode\":77701},{\"gender\":\"female\",\"city\":\"San Antonio\",\"email\":\"EdnaEThomas@dayrep.com\",\"username\":\"Deave1992\",\"age\":29,\"password\":\"OoPo9iac\",\"phone\":\"2108831304\",\"zipcode\":78202},{\"gender\":\"male\",\"city\":\"Kyle\",\"email\":\"HectorCKing@superrito.com\",\"username\":\"Wisess\",\"age\":61,\"password\":\"ShuPhoi8cah\",\"phone\":\"5122683177\",\"zipcode\":78640},{\"gender\":\"female\",\"city\":\"Sanford\",\"email\":\"DoloresJAdams@cuvox.de\",\"username\":\"Finece\",\"age\":22,\"password\":\"Maiki5zaum1\",\"phone\":\"8068655972\",\"zipcode\":79036},{\"gender\":\"male\",\"city\":\"Pampa\",\"email\":\"JimmyNJohnson@rhyta.com\",\"username\":\"Sailve90\",\"age\":31,\"password\":\"Iyeinae3eeth\",\"phone\":\"8062559263\",\"zipcode\":79065},{\"gender\":\"female\",\"city\":\"Denver\",\"email\":\"EleanorLRainbolt@fleckens.hu\",\"username\":\"Gamention\",\"age\":39,\"password\":\"aipo8OMohqu\",\"phone\":\"7206297729\",\"zipcode\":80239},{\"gender\":\"female\",\"city\":\"Boise\",\"email\":\"MartinaAPeterson@cuvox.de\",\"username\":\"Thaverse\",\"age\":85,\"password\":\"Iech8IJoo7\",\"phone\":\"2089775758\",\"zipcode\":83702},{\"gender\":\"male\",\"city\":\"West Valley City\",\"email\":\"TylerKSolomon@cuvox.de\",\"username\":\"Abled1993\",\"age\":28,\"password\":\"Phiet6Moh8\",\"phone\":\"4357717713\",\"zipcode\":84119},{\"gender\":\"female\",\"city\":\"Phoenix\",\"email\":\"BonnieCAston@cuvox.de\",\"username\":\"Monertafte91\",\"age\":30,\"password\":\"teelaeG7Ai\",\"phone\":\"6029578935\",\"zipcode\":85018},{\"gender\":\"female\",\"city\":\"Phoenix\",\"email\":\"MariaMTreadwell@dayrep.com\",\"username\":\"Dureal\",\"age\":74,\"password\":\"Ap4ooP4Ai\",\"phone\":\"6026581800\",\"zipcode\":85040},{\"gender\":\"female\",\"city\":\"Black Mesa\",\"email\":\"BethTTravis@rhyta.com\",\"username\":\"Weenbut\",\"age\":40,\"password\":\"dah7Hahsh\",\"phone\":\"9286777661\",\"zipcode\":86033},{\"gender\":\"female\",\"city\":\"Columbus\",\"email\":\"PhyllisCMullinax@rhyta.com\",\"username\":\"Cuble1948\",\"age\":73,\"password\":\"Dohbea0Ji\",\"phone\":\"5055494423\",\"zipcode\":88029},{\"gender\":\"female\",\"city\":\"Los Angeles\",\"email\":\"AmberSGlade@armyspy.com\",\"username\":\"Upcome\",\"age\":48,\"password\":\"eeng8Oo6ou\",\"phone\":\"8184172296\",\"zipcode\":90017},{\"gender\":\"male\",\"city\":\"Los Angeles\",\"email\":\"RobertASimpson@cuvox.de\",\"username\":\"Beyea1999\",\"age\":22,\"password\":\"Thei8hadiez\",\"phone\":\"6612163390\",\"zipcode\":90017},{\"gender\":\"male\",\"city\":\"Los Angeles\",\"email\":\"FreddieEYu@jourrapide.com\",\"username\":\"Timet1986\",\"age\":35,\"password\":\"UChaije4oo\",\"phone\":\"8184122190\",\"zipcode\":90017},{\"gender\":\"female\",\"city\":\"Gardena\",\"email\":\"LeticiaRWilliams@cuvox.de\",\"username\":\"Jent1999\",\"age\":22,\"password\":\"Eis5HieTh\",\"phone\":\"7149474576\",\"zipcode\":90247},{\"gender\":\"female\",\"city\":\"Bellflower\",\"email\":\"MichelleRBixby@cuvox.de\",\"username\":\"Anot1981\",\"age\":41,\"password\":\"eat4Kaht4K\",\"phone\":\"2136323104\",\"zipcode\":90706},{\"gender\":\"female\",\"city\":\"Long Beach\",\"email\":\"PaulineJStevenson@fleckens.hu\",\"username\":\"Sulighte\",\"age\":69,\"password\":\"Ab4aev2y\",\"phone\":\"6266381562\",\"zipcode\":90802},{\"gender\":\"male\",\"city\":\"Newhall\",\"email\":\"RichardSJuergens@einrot.com\",\"username\":\"Famess\",\"age\":41,\"password\":\"Ief5va7ua4\",\"phone\":\"6612847724\",\"zipcode\":91321},{\"gender\":\"female\",\"city\":\"Pomona\",\"email\":\"PamelaFTucker@teleworm.us\",\"username\":\"Eveng1987\",\"age\":34,\"password\":\"aethuaNg5ai\",\"phone\":\"6268204340\",\"zipcode\":91766},{\"gender\":\"female\",\"city\":\"San Diego\",\"email\":\"ChantelleJShepard@jourrapide.com\",\"username\":\"Uplas1979\",\"age\":43,\"password\":\"Ui5thi0e\",\"phone\":\"6193016432\",\"zipcode\":92117},{\"gender\":\"female\",\"city\":\"Palm Springs\",\"email\":\"StephanieMChang@einrot.com\",\"username\":\"Youb1978\",\"age\":43,\"password\":\"aeCeep4m\",\"phone\":\"7604497257\",\"zipcode\":92262},{\"gender\":\"male\",\"city\":\"Riverside\",\"email\":\"DonAHobbs@fleckens.hu\",\"username\":\"Feweake\",\"age\":64,\"password\":\"RaithieB8ah\",\"phone\":\"9512886455\",\"zipcode\":92501},{\"gender\":\"female\",\"city\":\"San Clemente\",\"email\":\"JenniferKFarmer@cuvox.de\",\"username\":\"Thavends50\",\"age\":71,\"password\":\"oujai4jeeHie\",\"phone\":\"9493668465\",\"zipcode\":92672},{\"gender\":\"male\",\"city\":\"Santa Ana\",\"email\":\"DavidJWalker@cuvox.de\",\"username\":\"Hustry\",\"age\":74,\"password\":\"Taevied3ye\",\"phone\":\"2134713552\",\"zipcode\":92705},{\"gender\":\"female\",\"city\":\"Irvine\",\"email\":\"YangDCyrus@teleworm.us\",\"username\":\"Befull1953\",\"age\":68,\"password\":\"hooj6Aichee\",\"phone\":\"9494767509\",\"zipcode\":92714},{\"gender\":\"male\",\"city\":\"Irvine\",\"email\":\"JeffreyLSalazar@cuvox.de\",\"username\":\"Teen1976\",\"age\":45,\"password\":\"oodae7Lei4\",\"phone\":\"9492608049\",\"zipcode\":92714},{\"gender\":\"female\",\"city\":\"Anaheim\",\"email\":\"TammyMKing@superrito.com\",\"username\":\"Nexplas\",\"age\":24,\"password\":\"uGheequu4ush\",\"phone\":\"3232062549\",\"zipcode\":92801},{\"gender\":\"male\",\"city\":\"Bakersfield\",\"email\":\"EdwardKWhite@jourrapide.com\",\"username\":\"Extriveromen1946\",\"age\":75,\"password\":\"Oe0Eiw9th\",\"phone\":\"6618172890\",\"zipcode\":93307},{\"gender\":\"female\",\"city\":\"Fresno\",\"email\":\"LeticiaBWilliams@fleckens.hu\",\"username\":\"Anscialtat\",\"age\":37,\"password\":\"iex0Kohg\",\"phone\":\"5592527098\",\"zipcode\":93702},{\"gender\":\"female\",\"city\":\"Fresno\",\"email\":\"CecilleMSeal@gustr.com\",\"username\":\"Phoonew\",\"age\":63,\"password\":\"aepaiK3Jep\",\"phone\":\"5594887428\",\"zipcode\":93721},{\"gender\":\"female\",\"city\":\"San Bruno\",\"email\":\"WandaJBrantley@einrot.com\",\"username\":\"Wasuffeen41\",\"age\":80,\"password\":\"teuth0Zee\",\"phone\":\"6506159799\",\"zipcode\":94066},{\"gender\":\"female\",\"city\":\"San Francisco\",\"email\":\"JaneRCard@armyspy.com\",\"username\":\"Neques1986\",\"age\":35,\"password\":\"QuaehooNg1\",\"phone\":\"9252334064\",\"zipcode\":94107},{\"gender\":\"male\",\"city\":\"San Francisco\",\"email\":\"KevinDPankratz@teleworm.us\",\"username\":\"Hopentionet55\",\"age\":66,\"password\":\"aiZie4yaic\",\"phone\":\"6507598004\",\"zipcode\":94107},{\"gender\":\"male\",\"city\":\"Dublin\",\"email\":\"MatthewKMillard@einrot.com\",\"username\":\"Agnight\",\"age\":63,\"password\":\"zae7IRaeX\",\"phone\":\"4157296772\",\"zipcode\":94568},{\"gender\":\"male\",\"city\":\"Stockton\",\"email\":\"HowardSHolt@armyspy.com\",\"username\":\"Prepition\",\"age\":81,\"password\":\"SokeiNiez4\",\"phone\":\"2099756847\",\"zipcode\":95204},{\"gender\":\"female\",\"city\":\"Sacramento\",\"email\":\"LaurieFCollins@dayrep.com\",\"username\":\"Yoully\",\"age\":32,\"password\":\"Quoow9aet\",\"phone\":\"9169516704\",\"zipcode\":95814},{\"gender\":\"male\",\"city\":\"Honolulu\",\"email\":\"RaymondMLoza@teleworm.us\",\"username\":\"Faturis\",\"age\":84,\"password\":\"Vue5oocai\",\"phone\":\"8089465928\",\"zipcode\":96826},{\"gender\":\"male\",\"city\":\"Portland\",\"email\":\"EdwardPLoewen@armyspy.com\",\"username\":\"Barthat\",\"age\":19,\"password\":\"ua6Aquae\",\"phone\":\"3608166028\",\"zipcode\":97218},{\"gender\":\"male\",\"city\":\"Eugene\",\"email\":\"ZaneSDavis@gustr.com\",\"username\":\"Andeverien37\",\"age\":84,\"password\":\"huz3zaeTh2\",\"phone\":\"5415201316\",\"zipcode\":97402},{\"gender\":\"female\",\"city\":\"Bothell\",\"email\":\"SaraKLegrand@cuvox.de\",\"username\":\"Appremuch\",\"age\":58,\"password\":\"Ahkah1Eil3p\",\"phone\":\"4254026266\",\"zipcode\":98021},{\"gender\":\"female\",\"city\":\"Tukwila\",\"email\":\"JamieRAlvarez@gustr.com\",\"username\":\"Tractinglery1988\",\"age\":33,\"password\":\"cho3veiChai\",\"phone\":\"2533455682\",\"zipcode\":98168},{\"gender\":\"male\",\"city\":\"Cashmere\",\"email\":\"StephenKKelleher@cuvox.de\",\"username\":\"Weravinut1948\",\"age\":73,\"password\":\"Ebuoghar4se\",\"phone\":\"5097825924\",\"zipcode\":98815}]'"
      ]
     },
     "execution_count": 63,
     "metadata": {},
     "output_type": "execute_result"
    }
   ],
   "source": [
    "#transfer data to json document\n",
    "df_json=df.to_json(orient='records')\n",
    "#print(type(df_json))\n",
    "df_json"
   ]
  },
  {
   "cell_type": "code",
   "execution_count": 65,
   "id": "9b976a64",
   "metadata": {},
   "outputs": [
    {
     "name": "stdout",
     "output_type": "stream",
     "text": [
      "Upload data successfully\n"
     ]
    }
   ],
   "source": [
    "#upload data to firebase's realtime database\n",
    "url='https://web-app-6ec58-default-rtdb.firebaseio.com/users.json'\n",
    "response=requests.put(url,df_json)\n",
    "re_status=str(response)\n",
    "if re_status=='<Response [200]>':\n",
    "    print('Upload data successfully')"
   ]
  }
 ],
 "metadata": {
  "kernelspec": {
   "display_name": "Python 3",
   "language": "python",
   "name": "python3"
  },
  "language_info": {
   "codemirror_mode": {
    "name": "ipython",
    "version": 3
   },
   "file_extension": ".py",
   "mimetype": "text/x-python",
   "name": "python",
   "nbconvert_exporter": "python",
   "pygments_lexer": "ipython3",
   "version": "3.8.8"
  }
 },
 "nbformat": 4,
 "nbformat_minor": 5
}
